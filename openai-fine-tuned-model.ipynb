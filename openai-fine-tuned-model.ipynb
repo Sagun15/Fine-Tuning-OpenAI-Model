{
 "cells": [
  {
   "cell_type": "code",
   "execution_count": 1,
   "metadata": {},
   "outputs": [],
   "source": [
    "!pip -q install datasets tiktoken openai"
   ]
  },
  {
   "cell_type": "code",
   "execution_count": 1,
   "metadata": {},
   "outputs": [
    {
     "name": "stdout",
     "output_type": "stream",
     "text": [
      "env: OPENAI_API_KEY=xxx\n"
     ]
    }
   ],
   "source": [
    "%env OPENAI_API_KEY=xxx"
   ]
  },
  {
   "cell_type": "code",
   "execution_count": 3,
   "metadata": {},
   "outputs": [],
   "source": [
    "import openai\n",
    "import os\n",
    "\n",
    "openai.api_key = openai.OpenAI(api_key=os.environ.get('OPENAI_API_KEY'))"
   ]
  },
  {
   "cell_type": "code",
   "execution_count": 4,
   "metadata": {},
   "outputs": [],
   "source": [
    "import json\n",
    "import os\n",
    "import tiktoken\n",
    "import numpy as np\n",
    "from collections import defaultdict"
   ]
  },
  {
   "cell_type": "code",
   "execution_count": 5,
   "metadata": {},
   "outputs": [],
   "source": [
    "data_path = \"gpt-qa.jsonl\""
   ]
  },
  {
   "cell_type": "code",
   "execution_count": 6,
   "metadata": {},
   "outputs": [],
   "source": [
    "with open(data_path) as f:\n",
    "    json_dataset = [json.loads(line) for line in f]"
   ]
  },
  {
   "cell_type": "code",
   "execution_count": 7,
   "metadata": {},
   "outputs": [
    {
     "data": {
      "text/plain": [
       "{'question': 'What inspired Yodha to pursue their career?',\n",
       " 'answer': 'Yodha was inspired by a deep passion for their field and a desire to make a positive impact on the world.'}"
      ]
     },
     "execution_count": 7,
     "metadata": {},
     "output_type": "execute_result"
    }
   ],
   "source": [
    "json_dataset[0]"
   ]
  },
  {
   "cell_type": "code",
   "execution_count": 8,
   "metadata": {},
   "outputs": [],
   "source": [
    "def convert_conversation(conversation_str, system_message=None):\n",
    "    \n",
    "    # Initializing the messages list\n",
    "    messages = []\n",
    "\n",
    "    # Including the system message if provided\n",
    "    if system_message:\n",
    "        messages.append({\n",
    "            \"role\": \"system\",\n",
    "            \"content\": system_message\n",
    "        })\n",
    "\n",
    "    messages.append({\n",
    "        \"role\": \"user\",\n",
    "        \"content\": conversation_str[\"question\"]\n",
    "    })\n",
    "\n",
    "    messages.append({\n",
    "        \"role\": \"assistant\",\n",
    "        \"content\": conversation_str[\"answer\"]\n",
    "    })\n",
    "\n",
    "    # Creating the final output dictionary\n",
    "    output_dict = {\n",
    "        \"messages\": messages\n",
    "    }\n",
    "\n",
    "    return output_dict"
   ]
  },
  {
   "cell_type": "code",
   "execution_count": 9,
   "metadata": {},
   "outputs": [],
   "source": [
    "system_message = \"\"\"You are a helpful assistant. Who answers to questions and don't add any other information unless asked for.\"\"\""
   ]
  },
  {
   "cell_type": "code",
   "execution_count": 10,
   "metadata": {},
   "outputs": [
    {
     "data": {
      "text/plain": [
       "{'messages': [{'role': 'system',\n",
       "   'content': \"You are a helpful assistant. Who answers to questions and don't add any other information unless asked for.\"},\n",
       "  {'role': 'user', 'content': 'What inspired Yodha to pursue their career?'},\n",
       "  {'role': 'assistant',\n",
       "   'content': 'Yodha was inspired by a deep passion for their field and a desire to make a positive impact on the world.'}]}"
      ]
     },
     "execution_count": 10,
     "metadata": {},
     "output_type": "execute_result"
    }
   ],
   "source": [
    "convert_conversation(json_dataset[0], system_message=system_message)"
   ]
  },
  {
   "cell_type": "code",
   "execution_count": 11,
   "metadata": {},
   "outputs": [],
   "source": [
    "dataset = []\n",
    "\n",
    "for data in json_dataset:\n",
    "    record = convert_conversation(data, system_message=system_message)\n",
    "    dataset.append(record)"
   ]
  },
  {
   "cell_type": "code",
   "execution_count": 12,
   "metadata": {},
   "outputs": [
    {
     "name": "stdout",
     "output_type": "stream",
     "text": [
      "Num examples: 100\n",
      "First example:\n",
      "{'role': 'system', 'content': \"You are a helpful assistant. Who answers to questions and don't add any other information unless asked for.\"}\n",
      "{'role': 'user', 'content': 'How did Yodha overcome challenges in their journey?'}\n",
      "{'role': 'assistant', 'content': 'Yodha faced challenges with determination, resilience, and a problem-solving mindset, which led to their success.'}\n"
     ]
    }
   ],
   "source": [
    "print(\"Num examples:\", len(dataset))\n",
    "print(\"First example:\")\n",
    "for message in dataset[1][\"messages\"]:\n",
    "    print(message)"
   ]
  },
  {
   "cell_type": "code",
   "execution_count": 13,
   "metadata": {},
   "outputs": [
    {
     "name": "stdout",
     "output_type": "stream",
     "text": [
      "No errors found\n"
     ]
    }
   ],
   "source": [
    "# Format error checks\n",
    "format_errors = defaultdict(int)\n",
    "\n",
    "for ex in dataset:\n",
    "    if not isinstance(ex, dict):\n",
    "        format_errors[\"data_type\"] += 1\n",
    "        continue\n",
    "\n",
    "    messages = ex.get(\"messages\", None)\n",
    "    if not messages:\n",
    "        format_errors[\"missing_messages_list\"] += 1\n",
    "        continue\n",
    "\n",
    "    for message in messages:\n",
    "        if \"role\" not in message or \"content\" not in message:\n",
    "            format_errors[\"message_missing_key\"] += 1\n",
    "\n",
    "        if any(k not in (\"role\", \"content\", \"name\") for k in message):\n",
    "            format_errors[\"message_unrecognized_key\"] += 1\n",
    "\n",
    "        if message.get(\"role\", None) not in (\"system\", \"user\", \"assistant\"):\n",
    "            format_errors[\"unrecognized_role\"] += 1\n",
    "\n",
    "        content = message.get(\"content\", None)\n",
    "        if not content or not isinstance(content, str):\n",
    "            format_errors[\"missing_content\"] += 1\n",
    "\n",
    "    if not any(message.get(\"role\", None) == \"assistant\" for message in messages):\n",
    "        format_errors[\"example_missing_assistant_message\"] += 1\n",
    "\n",
    "if format_errors:\n",
    "    print(\"Found errors:\")\n",
    "    for k, v in format_errors.items():\n",
    "        print(f\"{k}: {v}\")\n",
    "else:\n",
    "    print(\"No errors found\")"
   ]
  },
  {
   "cell_type": "code",
   "execution_count": 14,
   "metadata": {},
   "outputs": [],
   "source": [
    "# Token counting functions\n",
    "encoding = tiktoken.get_encoding(\"cl100k_base\")\n",
    "\n",
    "def num_tokens_from_messages(messages, tokens_per_message=3, tokens_per_name=1):\n",
    "    num_tokens = 0\n",
    "    for message in messages:\n",
    "        num_tokens += tokens_per_message\n",
    "        for key, value in message.items():\n",
    "            num_tokens += len(encoding.encode(value))\n",
    "            if key == \"name\":\n",
    "                num_tokens += tokens_per_name\n",
    "    num_tokens += 3\n",
    "    return num_tokens\n",
    "\n",
    "def num_assistant_tokens_from_messages(messages):\n",
    "    num_tokens = 0\n",
    "    for message in messages:\n",
    "        if message[\"role\"] == \"assistant\":\n",
    "            num_tokens += len(encoding.encode(message[\"content\"]))\n",
    "    return num_tokens\n",
    "\n",
    "def print_distribution(values, name):\n",
    "    print(f\"\\n#### Distribution of {name}:\")\n",
    "    print(f\"min / max: {min(values)}, {max(values)}\")\n",
    "    print(f\"mean / median: {np.mean(values)}, {np.median(values)}\")\n",
    "    print(f\"p5 / p95: {np.quantile(values, 0.1)}, {np.quantile(values, 0.9)}\")"
   ]
  },
  {
   "cell_type": "code",
   "execution_count": 15,
   "metadata": {},
   "outputs": [
    {
     "name": "stdout",
     "output_type": "stream",
     "text": [
      "Num examples missing system message: 0\n",
      "Num examples missing user message: 0\n",
      "\n",
      "#### Distribution of num_messages_per_example:\n",
      "min / max: 3, 3\n",
      "mean / median: 3.0, 3.0\n",
      "p5 / p95: 3.0, 3.0\n",
      "\n",
      "#### Distribution of num_total_tokens_per_example:\n",
      "min / max: 63, 81\n",
      "mean / median: 71.06, 71.0\n",
      "p5 / p95: 66.0, 76.0\n",
      "\n",
      "#### Distribution of num_assistant_tokens_per_example:\n",
      "min / max: 17, 33\n",
      "mean / median: 23.74, 24.0\n",
      "p5 / p95: 19.0, 27.0\n",
      "\n",
      "0 examples may be over the 4096 token limit, they will be truncated during fine-tuning\n"
     ]
    }
   ],
   "source": [
    "# Warnings and tokens counts\n",
    "n_missing_system = 0\n",
    "n_missing_user = 0\n",
    "n_messages = []\n",
    "convo_lens = []\n",
    "assistant_message_lens = []\n",
    "\n",
    "for ex in dataset:\n",
    "    messages = ex[\"messages\"]\n",
    "    if not any(message[\"role\"] == \"system\" for message in messages):\n",
    "        n_missing_system += 1\n",
    "    if not any(message[\"role\"] == \"user\" for message in messages):\n",
    "        n_missing_user += 1\n",
    "    n_messages.append(len(messages))\n",
    "    convo_lens.append(num_tokens_from_messages(messages))\n",
    "    assistant_message_lens.append(num_assistant_tokens_from_messages(messages))\n",
    "\n",
    "print(\"Num examples missing system message:\", n_missing_system)\n",
    "print(\"Num examples missing user message:\", n_missing_user)\n",
    "print_distribution(n_messages, \"num_messages_per_example\")\n",
    "print_distribution(convo_lens, \"num_total_tokens_per_example\")\n",
    "print_distribution(assistant_message_lens, \"num_assistant_tokens_per_example\")\n",
    "n_too_long = sum(l > 4096 for l in convo_lens)\n",
    "print(f\"\\n{n_too_long} examples may be over the 4096 token limit, they will be truncated during fine-tuning\")"
   ]
  },
  {
   "cell_type": "code",
   "execution_count": 16,
   "metadata": {},
   "outputs": [
    {
     "name": "stdout",
     "output_type": "stream",
     "text": [
      "Dataset has ~7106 tokens that will be charged for during training\n",
      "By default, you'll train for 3 epochs on this dataset\n",
      "By default, you'll be charged for ~21318 tokens\n",
      "See pricing page to estimate total costs\n"
     ]
    }
   ],
   "source": [
    "# Pricing and default n_epochs estimate\n",
    "MAX_TOKENS_PER_EXAMPLE = 4096\n",
    "\n",
    "TARGET_EPOCHS = 3\n",
    "MIN_TARGET_EXAMPLES = 100\n",
    "MAX_TARGET_EXAMPLES = 25000\n",
    "MIN_DEFAULT_EPOCHS = 1\n",
    "MAX_DEFAULT_EPOCHS = 25\n",
    "\n",
    "n_epochs = TARGET_EPOCHS\n",
    "n_train_examples = len(dataset)\n",
    "if n_train_examples * TARGET_EPOCHS < MIN_TARGET_EXAMPLES:\n",
    "    n_epochs = min(MAX_DEFAULT_EPOCHS, MIN_TARGET_EXAMPLES // n_train_examples)\n",
    "elif n_train_examples * TARGET_EPOCHS > MAX_TARGET_EXAMPLES:\n",
    "    n_epochs = max(MIN_DEFAULT_EPOCHS, MAX_TARGET_EXAMPLES // n_train_examples)\n",
    "\n",
    "n_billing_tokens_in_dataset = sum(min(MAX_TOKENS_PER_EXAMPLE, length) for length in convo_lens)\n",
    "print(f\"Dataset has ~{n_billing_tokens_in_dataset} tokens that will be charged for during training\")\n",
    "print(f\"By default, you'll train for {n_epochs} epochs on this dataset\")\n",
    "print(f\"By default, you'll be charged for ~{n_epochs * n_billing_tokens_in_dataset} tokens\")\n",
    "print(\"See pricing page to estimate total costs\")"
   ]
  },
  {
   "cell_type": "code",
   "execution_count": 17,
   "metadata": {},
   "outputs": [],
   "source": [
    "import json\n",
    "\n",
    "def save_to_jsonl(conversations, file_path):\n",
    "    with open(file_path, 'w') as file:\n",
    "        for conversation in conversations:\n",
    "            json_line = json.dumps(conversation)\n",
    "            file.write(json_line + '\\n')"
   ]
  },
  {
   "cell_type": "code",
   "execution_count": 18,
   "metadata": {},
   "outputs": [],
   "source": [
    "# train dataset\n",
    "save_to_jsonl(dataset, 'gpt-qa_train.jsonl')\n",
    "\n",
    "# train dataset\n",
    "save_to_jsonl(dataset[10:15], 'gpt-qa_validation.jsonl')"
   ]
  },
  {
   "cell_type": "code",
   "execution_count": 19,
   "metadata": {},
   "outputs": [],
   "source": [
    "training_file_name = 'gpt-qa_train.jsonl'\n",
    "validation_file_name = 'gpt-qa_validation.jsonl'"
   ]
  },
  {
   "cell_type": "code",
   "execution_count": 20,
   "metadata": {},
   "outputs": [
    {
     "name": "stdout",
     "output_type": "stream",
     "text": [
      "Training file id: FileObject(id='file-A1QN8FWbkNkpmFL4kTW0h2k5', bytes=41864, created_at=1701601215, filename='gpt-qa_train.jsonl', object='file', purpose='fine-tune', status='processed', status_details=None)\n",
      "Validation file id: FileObject(id='file-O7sRYndcD15ZCHYRNOQsrjsr', bytes=1986, created_at=1701601216, filename='gpt-qa_validation.jsonl', object='file', purpose='fine-tune', status='processed', status_details=None)\n"
     ]
    }
   ],
   "source": [
    "training_response = openai.OpenAI().files.create(\n",
    "    file=open(training_file_name, \"rb\"), purpose=\"fine-tune\"\n",
    ")\n",
    "# training_file_id = training_response[\"id\"]\n",
    "\n",
    "validation_response = openai.OpenAI().files.create(\n",
    "    file=open(validation_file_name, \"rb\"), purpose=\"fine-tune\"\n",
    ")\n",
    "# validation_file_id = validation_response[\"id\"]\n",
    "\n",
    "print(\"Training file id:\", training_response)\n",
    "print(\"Validation file id:\", validation_response)"
   ]
  },
  {
   "cell_type": "code",
   "execution_count": 21,
   "metadata": {},
   "outputs": [
    {
     "name": "stdout",
     "output_type": "stream",
     "text": [
      "FineTuningJob(id='ftjob-pDcPJO4km9AdpHvmTUkTolhX', created_at=1701601279, error=None, fine_tuned_model=None, finished_at=None, hyperparameters=Hyperparameters(n_epochs='auto', batch_size='auto', learning_rate_multiplier='auto'), model='gpt-3.5-turbo-0613', object='fine_tuning.job', organization_id='org-Zd7OJurAMEQGiPJ5kJ0AhJfd', result_files=[], status='validating_files', trained_tokens=None, training_file='file-A1QN8FWbkNkpmFL4kTW0h2k5', validation_file='file-O7sRYndcD15ZCHYRNOQsrjsr')\n"
     ]
    }
   ],
   "source": [
    "suffix_name = \"gpt-qa\"\n",
    "\n",
    "\n",
    "response = openai.OpenAI().fine_tuning.jobs.create(\n",
    "    training_file='file-A1QN8FWbkNkpmFL4kTW0h2k5',\n",
    "    validation_file='file-O7sRYndcD15ZCHYRNOQsrjsr',\n",
    "    model=\"gpt-3.5-turbo\"\n",
    ")\n",
    "\n",
    "job_id = response.id\n",
    "\n",
    "print(response)"
   ]
  },
  {
   "cell_type": "code",
   "execution_count": 25,
   "metadata": {},
   "outputs": [
    {
     "name": "stdout",
     "output_type": "stream",
     "text": [
      "FineTuningJobEvent(id='ftevent-SxS4BHliUFRN8nhfBiRK3Zxg', created_at=1701601279, level='info', message='Created fine-tuning job: ftjob-pDcPJO4km9AdpHvmTUkTolhX', object='fine_tuning.job.event', data={}, type='message')\n",
      "FineTuningJobEvent(id='ftevent-PFQF0Pv7bjws8wGAXKHEtYGz', created_at=1701601279, level='info', message='Validating training file: file-A1QN8FWbkNkpmFL4kTW0h2k5 and validation file: file-O7sRYndcD15ZCHYRNOQsrjsr', object='fine_tuning.job.event', data={}, type='message')\n",
      "FineTuningJobEvent(id='ftevent-4Y65CnAOguEyDSeluLHID0tu', created_at=1701601322, level='info', message='Files validated, moving job to queued state', object='fine_tuning.job.event', data={}, type='message')\n",
      "FineTuningJobEvent(id='ftevent-amk2wBwWraWZXdQGHCsKT0JJ', created_at=1701601323, level='info', message='Fine-tuning job started', object='fine_tuning.job.event', data=None, type='message')\n",
      "FineTuningJobEvent(id='ftevent-5Yzc0fuBDFBHMFy7ndEDkp0R', created_at=1701601498, level='info', message='Step 1/300: training loss=2.06, validation loss=1.34', object='fine_tuning.job.event', data={'step': 1, 'train_loss': 2.0584049224853516, 'valid_loss': 1.3407953511113706, 'train_mean_token_accuracy': 0.5161290168762207, 'valid_mean_token_accuracy': 0.4782608695652174}, type='metrics')\n",
      "FineTuningJobEvent(id='ftevent-ze8vmyPZwAecyz7BHnsXDCkE', created_at=1701601514, level='info', message='Step 11/300: training loss=1.32, validation loss=1.81', object='fine_tuning.job.event', data={'step': 11, 'train_loss': 1.3229660987854004, 'valid_loss': 1.8134681995098407, 'train_mean_token_accuracy': 0.5925925970077515, 'valid_mean_token_accuracy': 0.6538461538461539}, type='metrics')\n",
      "FineTuningJobEvent(id='ftevent-KlRPWVlWnraOWAJ8fJht9ytG', created_at=1701601528, level='info', message='Step 21/300: training loss=0.64, validation loss=1.36', object='fine_tuning.job.event', data={'step': 21, 'train_loss': 0.6419339179992676, 'valid_loss': 1.3576511100486472, 'train_mean_token_accuracy': 0.8148148059844971, 'valid_mean_token_accuracy': 0.6296296296296297}, type='metrics')\n",
      "FineTuningJobEvent(id='ftevent-XGfvl9lBH36RZLm3eZivs2rP', created_at=1701601543, level='info', message='Step 31/300: training loss=1.37, validation loss=0.53', object='fine_tuning.job.event', data={'step': 31, 'train_loss': 1.373982548713684, 'valid_loss': 0.5260828191583807, 'train_mean_token_accuracy': 0.6363636255264282, 'valid_mean_token_accuracy': 0.5909090909090909}, type='metrics')\n",
      "FineTuningJobEvent(id='ftevent-nsEHjJI2f4q8MBCcB3DG5dvC', created_at=1701601559, level='info', message='Step 41/300: training loss=0.52, validation loss=0.59', object='fine_tuning.job.event', data={'step': 41, 'train_loss': 0.5208075642585754, 'valid_loss': 0.5900378050627532, 'train_mean_token_accuracy': 0.7857142686843872, 'valid_mean_token_accuracy': 0.7037037037037037}, type='metrics')\n",
      "FineTuningJobEvent(id='ftevent-jAg3DA5jNHUtW20q2aIlNvfs', created_at=1701601573, level='info', message='Step 51/300: training loss=0.20, validation loss=0.41', object='fine_tuning.job.event', data={'step': 51, 'train_loss': 0.20076987147331238, 'valid_loss': 0.4074240145475968, 'train_mean_token_accuracy': 0.9615384340286255, 'valid_mean_token_accuracy': 0.6086956521739131}, type='metrics')\n",
      "FineTuningJobEvent(id='ftevent-TKMQTUffHn7aCSbOVQRttA6b', created_at=1701601587, level='info', message='Step 61/300: training loss=0.52, validation loss=0.46', object='fine_tuning.job.event', data={'step': 61, 'train_loss': 0.5246383547782898, 'valid_loss': 0.4636501165536734, 'train_mean_token_accuracy': 0.8275862336158752, 'valid_mean_token_accuracy': 0.7307692307692307}, type='metrics')\n",
      "FineTuningJobEvent(id='ftevent-rbW2iDnKNzezJk7QsOmHIadN', created_at=1701601603, level='info', message='Step 71/300: training loss=0.34, validation loss=0.51', object='fine_tuning.job.event', data={'step': 71, 'train_loss': 0.3440636098384857, 'valid_loss': 0.509181057965314, 'train_mean_token_accuracy': 0.8571428656578064, 'valid_mean_token_accuracy': 0.7777777777777778}, type='metrics')\n",
      "FineTuningJobEvent(id='ftevent-jsX0oWUXNbI2KSaiTiijlXSV', created_at=1701601617, level='info', message='Step 81/300: training loss=1.06, validation loss=0.19', object='fine_tuning.job.event', data={'step': 81, 'train_loss': 1.0646097660064697, 'valid_loss': 0.1891812411221591, 'train_mean_token_accuracy': 0.6800000071525574, 'valid_mean_token_accuracy': 0.6818181818181818}, type='metrics')\n",
      "FineTuningJobEvent(id='ftevent-mC5tcOVWknUGRQGW1ivhrJ1K', created_at=1701601631, level='info', message='Step 91/300: training loss=0.79, validation loss=0.34', object='fine_tuning.job.event', data={'step': 91, 'train_loss': 0.7919632792472839, 'valid_loss': 0.3374718560112847, 'train_mean_token_accuracy': 0.75, 'valid_mean_token_accuracy': 0.7037037037037037}, type='metrics')\n",
      "FineTuningJobEvent(id='ftevent-F7KWeM3bLeUn45XOVPmw3LsX', created_at=1701601647, level='info', message='Step 101/300: training loss=0.91, validation loss=0.12', object='fine_tuning.job.event', data={'step': 101, 'train_loss': 0.9109979271888733, 'valid_loss': 0.12126955778702446, 'train_mean_token_accuracy': 0.75, 'valid_mean_token_accuracy': 0.6956521739130435}, type='metrics')\n",
      "FineTuningJobEvent(id='ftevent-1Ph9craxLY6TGA7M8lY8X3Xe', created_at=1701601661, level='info', message='Step 111/300: training loss=0.24, validation loss=0.29', object='fine_tuning.job.event', data={'step': 111, 'train_loss': 0.23956912755966187, 'valid_loss': 0.2887498415433444, 'train_mean_token_accuracy': 0.9629629850387573, 'valid_mean_token_accuracy': 0.8076923076923077}, type='metrics')\n",
      "FineTuningJobEvent(id='ftevent-TSbrX4j7NZq3KKSnd7T2xTsk', created_at=1701601677, level='info', message='Step 121/300: training loss=0.24, validation loss=0.10', object='fine_tuning.job.event', data={'step': 121, 'train_loss': 0.24153541028499603, 'valid_loss': 0.09503237406412761, 'train_mean_token_accuracy': 0.9200000166893005, 'valid_mean_token_accuracy': 0.8518518518518519}, type='metrics')\n",
      "FineTuningJobEvent(id='ftevent-29LuD4G8D4PJVtgREhKCjYtK', created_at=1701601691, level='info', message='Step 131/300: training loss=0.84, validation loss=0.05', object='fine_tuning.job.event', data={'step': 131, 'train_loss': 0.8351763486862183, 'valid_loss': 0.045705101706764915, 'train_mean_token_accuracy': 0.807692289352417, 'valid_mean_token_accuracy': 0.7727272727272727}, type='metrics')\n",
      "FineTuningJobEvent(id='ftevent-92QU4lbhYlupmkS7tPmfMU2x', created_at=1701601707, level='info', message='Step 141/300: training loss=0.23, validation loss=0.16', object='fine_tuning.job.event', data={'step': 141, 'train_loss': 0.2260272204875946, 'valid_loss': 0.1623628404405382, 'train_mean_token_accuracy': 0.9200000166893005, 'valid_mean_token_accuracy': 0.7777777777777778}, type='metrics')\n",
      "FineTuningJobEvent(id='ftevent-wvdIfNUtvauSJ2DBGGiEbe32', created_at=1701601721, level='info', message='Step 151/300: training loss=0.39, validation loss=0.12', object='fine_tuning.job.event', data={'step': 151, 'train_loss': 0.38775572180747986, 'valid_loss': 0.11664647641389267, 'train_mean_token_accuracy': 0.8518518805503845, 'valid_mean_token_accuracy': 0.6956521739130435}, type='metrics')\n",
      "FineTuningJobEvent(id='ftevent-uV0Uo1pQKLced1VOYfxuMhvJ', created_at=1701601735, level='info', message='Step 161/300: training loss=0.35, validation loss=0.32', object='fine_tuning.job.event', data={'step': 161, 'train_loss': 0.3535047173500061, 'valid_loss': 0.31603116255540115, 'train_mean_token_accuracy': 0.8799999952316284, 'valid_mean_token_accuracy': 0.8076923076923077}, type='metrics')\n",
      "FineTuningJobEvent(id='ftevent-cuQJMzLPLA5c6Do5rd2sDSt0', created_at=1701601752, level='info', message='Step 171/300: training loss=0.81, validation loss=0.13', object='fine_tuning.job.event', data={'step': 171, 'train_loss': 0.8136666417121887, 'valid_loss': 0.1286087742558232, 'train_mean_token_accuracy': 0.7777777910232544, 'valid_mean_token_accuracy': 0.8518518518518519}, type='metrics')\n",
      "FineTuningJobEvent(id='ftevent-p4S7yPaWz6SayFSWaO8x5Zsv', created_at=1701601766, level='info', message='Step 181/300: training loss=0.36, validation loss=0.10', object='fine_tuning.job.event', data={'step': 181, 'train_loss': 0.36385759711265564, 'valid_loss': 0.09697974811900746, 'train_mean_token_accuracy': 0.8333333134651184, 'valid_mean_token_accuracy': 0.7272727272727273}, type='metrics')\n",
      "FineTuningJobEvent(id='ftevent-jjZ597RlsiLIOCTANyBonq9q', created_at=1701601782, level='info', message='Step 191/300: training loss=0.13, validation loss=0.17', object='fine_tuning.job.event', data={'step': 191, 'train_loss': 0.1333150863647461, 'valid_loss': 0.17086876763237846, 'train_mean_token_accuracy': 1.0, 'valid_mean_token_accuracy': 0.7777777777777778}, type='metrics')\n",
      "FineTuningJobEvent(id='ftevent-xRdVHwhSuGYNBlxjXVTysmRU', created_at=1701601796, level='info', message='Step 201/300: training loss=0.61, validation loss=0.05', object='fine_tuning.job.event', data={'step': 201, 'train_loss': 0.605058491230011, 'valid_loss': 0.05491969896399457, 'train_mean_token_accuracy': 0.875, 'valid_mean_token_accuracy': 0.6956521739130435}, type='metrics')\n",
      "FineTuningJobEvent(id='ftevent-XpxDC05jNypsxPQscDQrwEJj', created_at=1701601812, level='info', message='Step 211/300: training loss=0.56, validation loss=0.17', object='fine_tuning.job.event', data={'step': 211, 'train_loss': 0.5553885102272034, 'valid_loss': 0.16701170114370492, 'train_mean_token_accuracy': 0.7894737124443054, 'valid_mean_token_accuracy': 0.8076923076923077}, type='metrics')\n",
      "FineTuningJobEvent(id='ftevent-bOHCFwNnxFWNuE61FYifLGdd', created_at=1701601826, level='info', message='Step 221/300: training loss=0.21, validation loss=0.10', object='fine_tuning.job.event', data={'step': 221, 'train_loss': 0.207847461104393, 'valid_loss': 0.1033360516583478, 'train_mean_token_accuracy': 0.931034505367279, 'valid_mean_token_accuracy': 0.8518518518518519}, type='metrics')\n",
      "FineTuningJobEvent(id='ftevent-KXAgKuPo3TcK9ZnzIdGyBJGV', created_at=1701601842, level='info', message='Step 231/300: training loss=0.16, validation loss=0.09', object='fine_tuning.job.event', data={'step': 231, 'train_loss': 0.15997497737407684, 'valid_loss': 0.09388342770663174, 'train_mean_token_accuracy': 0.9166666865348816, 'valid_mean_token_accuracy': 0.7272727272727273}, type='metrics')\n",
      "FineTuningJobEvent(id='ftevent-VRm3jpW87XgHqdwv7siXVvQN', created_at=1701601856, level='info', message='Step 241/300: training loss=0.06, validation loss=0.20', object='fine_tuning.job.event', data={'step': 241, 'train_loss': 0.05908248946070671, 'valid_loss': 0.19891081915961373, 'train_mean_token_accuracy': 1.0, 'valid_mean_token_accuracy': 0.7407407407407407}, type='metrics')\n",
      "FineTuningJobEvent(id='ftevent-nTXRrZDWvotgToGxxvLXmc6L', created_at=1701601872, level='info', message='Step 251/300: training loss=0.03, validation loss=0.03', object='fine_tuning.job.event', data={'step': 251, 'train_loss': 0.028864683583378792, 'valid_loss': 0.031466276749320655, 'train_mean_token_accuracy': 1.0, 'valid_mean_token_accuracy': 0.6956521739130435}, type='metrics')\n",
      "FineTuningJobEvent(id='ftevent-y6djuM3GDGC9M1eSVeBF9iP1', created_at=1701601886, level='info', message='Step 261/300: training loss=0.16, validation loss=0.07', object='fine_tuning.job.event', data={'step': 261, 'train_loss': 0.16100892424583435, 'valid_loss': 0.06784277695875901, 'train_mean_token_accuracy': 0.949999988079071, 'valid_mean_token_accuracy': 0.8846153846153846}, type='metrics')\n",
      "FineTuningJobEvent(id='ftevent-OAu5J9AcSaEg9gBUBGri0u3c', created_at=1701601900, level='info', message='Step 271/300: training loss=0.03, validation loss=0.06', object='fine_tuning.job.event', data={'step': 271, 'train_loss': 0.029893795028328896, 'valid_loss': 0.05583522937915943, 'train_mean_token_accuracy': 1.0, 'valid_mean_token_accuracy': 0.8518518518518519}, type='metrics')\n",
      "FineTuningJobEvent(id='ftevent-2laL8eNkp4qowmEC4yBOIX0u', created_at=1701601916, level='info', message='Step 281/300: training loss=0.52, validation loss=0.09', object='fine_tuning.job.event', data={'step': 281, 'train_loss': 0.5174751281738281, 'valid_loss': 0.09305815263227983, 'train_mean_token_accuracy': 0.8461538553237915, 'valid_mean_token_accuracy': 0.7272727272727273}, type='metrics')\n",
      "FineTuningJobEvent(id='ftevent-kAt89EVmumt4aSqZkhbvuEvp', created_at=1701601930, level='info', message='Step 291/300: training loss=0.08, validation loss=0.18', object='fine_tuning.job.event', data={'step': 291, 'train_loss': 0.08493305742740631, 'valid_loss': 0.17787947478117766, 'train_mean_token_accuracy': 1.0, 'valid_mean_token_accuracy': 0.7407407407407407}, type='metrics')\n",
      "FineTuningJobEvent(id='ftevent-gtX7h50Jg4r2Q7QpPYUbkT8g', created_at=1701601948, level='info', message='New fine-tuned model created: ft:gpt-3.5-turbo-0613:kickdrum::8RegdrCR', object='fine_tuning.job.event', data={}, type='message')\n",
      "FineTuningJobEvent(id='ftevent-aTc2lC7YCfBCGCg7sfMnzL6H', created_at=1701601951, level='info', message='The job has successfully completed', object='fine_tuning.job.event', data={}, type='message')\n"
     ]
    }
   ],
   "source": [
    "response = openai.OpenAI().fine_tuning.jobs.list_events(fine_tuning_job_id=job_id, limit=50)\n",
    "\n",
    "fine_tuning_events = response.data\n",
    "fine_tuning_events.reverse()\n",
    "# Now you can iterate through the list to access individual FineTuningJobEvent objects\n",
    "for fine_tuning_event in fine_tuning_events:\n",
    "    # Accessing attributes of each FineTuningJobEvent\n",
    "    message = fine_tuning_event\n",
    "    print(message)"
   ]
  },
  {
   "cell_type": "code",
   "execution_count": 26,
   "metadata": {},
   "outputs": [
    {
     "name": "stdout",
     "output_type": "stream",
     "text": [
      "FineTuningJob(id='ftjob-pDcPJO4km9AdpHvmTUkTolhX', created_at=1701601279, error=None, fine_tuned_model='ft:gpt-3.5-turbo-0613:kickdrum::8RegdrCR', finished_at=1701601947, hyperparameters=Hyperparameters(n_epochs=3, batch_size=1, learning_rate_multiplier=2), model='gpt-3.5-turbo-0613', object='fine_tuning.job', organization_id='org-Zd7OJurAMEQGiPJ5kJ0AhJfd', result_files=['file-ExLMkhgvwZMKcJghOlSk7wGQ'], status='succeeded', trained_tokens=20718, training_file='file-A1QN8FWbkNkpmFL4kTW0h2k5', validation_file='file-O7sRYndcD15ZCHYRNOQsrjsr')\n",
      "\n",
      "Fine-tuned model id: ft:gpt-3.5-turbo-0613:kickdrum::8RegdrCR\n"
     ]
    }
   ],
   "source": [
    "response = openai.OpenAI().fine_tuning.jobs.retrieve(job_id)\n",
    "fine_tuned_model_id = response.fine_tuned_model\n",
    "\n",
    "print(response)\n",
    "print(\"\\nFine-tuned model id:\", fine_tuned_model_id)"
   ]
  },
  {
   "cell_type": "code",
   "execution_count": 27,
   "metadata": {},
   "outputs": [
    {
     "name": "stdout",
     "output_type": "stream",
     "text": [
      "Requirement already satisfied: pandas in ./.venv/lib/python3.9/site-packages (2.1.3)\n",
      "Requirement already satisfied: matplotlib in ./.venv/lib/python3.9/site-packages (3.8.2)\n",
      "Requirement already satisfied: termcolor in ./.venv/lib/python3.9/site-packages (2.3.0)\n",
      "Requirement already satisfied: numpy<2,>=1.22.4 in ./.venv/lib/python3.9/site-packages (from pandas) (1.26.2)\n",
      "Requirement already satisfied: python-dateutil>=2.8.2 in ./.venv/lib/python3.9/site-packages (from pandas) (2.8.2)\n",
      "Requirement already satisfied: pytz>=2020.1 in ./.venv/lib/python3.9/site-packages (from pandas) (2023.3.post1)\n",
      "Requirement already satisfied: tzdata>=2022.1 in ./.venv/lib/python3.9/site-packages (from pandas) (2023.3)\n",
      "Requirement already satisfied: contourpy>=1.0.1 in ./.venv/lib/python3.9/site-packages (from matplotlib) (1.2.0)\n",
      "Requirement already satisfied: cycler>=0.10 in ./.venv/lib/python3.9/site-packages (from matplotlib) (0.12.1)\n",
      "Requirement already satisfied: fonttools>=4.22.0 in ./.venv/lib/python3.9/site-packages (from matplotlib) (4.45.1)\n",
      "Requirement already satisfied: kiwisolver>=1.3.1 in ./.venv/lib/python3.9/site-packages (from matplotlib) (1.4.5)\n",
      "Requirement already satisfied: packaging>=20.0 in ./.venv/lib/python3.9/site-packages (from matplotlib) (23.2)\n",
      "Requirement already satisfied: pillow>=8 in ./.venv/lib/python3.9/site-packages (from matplotlib) (10.1.0)\n",
      "Requirement already satisfied: pyparsing>=2.3.1 in ./.venv/lib/python3.9/site-packages (from matplotlib) (3.1.1)\n",
      "Requirement already satisfied: importlib-resources>=3.2.0 in ./.venv/lib/python3.9/site-packages (from matplotlib) (6.1.1)\n",
      "Requirement already satisfied: zipp>=3.1.0 in ./.venv/lib/python3.9/site-packages (from importlib-resources>=3.2.0->matplotlib) (3.17.0)\n",
      "Requirement already satisfied: six>=1.5 in ./.venv/lib/python3.9/site-packages (from python-dateutil>=2.8.2->pandas) (1.16.0)\n",
      "Note: you may need to restart the kernel to use updated packages.\n"
     ]
    }
   ],
   "source": [
    "pip install pandas matplotlib termcolor"
   ]
  },
  {
   "cell_type": "code",
   "execution_count": 28,
   "metadata": {},
   "outputs": [],
   "source": [
    "import time\n",
    "import pandas as pd\n",
    "import matplotlib.pyplot as plt\n",
    "from termcolor import colored"
   ]
  },
  {
   "cell_type": "code",
   "execution_count": 30,
   "metadata": {},
   "outputs": [],
   "source": [
    "df = pd.DataFrame(columns=[\"Step\", \"Loss\", \"Accuracy\"])\n",
    "\n",
    "job_id = 'ftjob-pDcPJO4km9AdpHvmTUkTolhX'\n",
    "job = openai.OpenAI().fine_tuning.jobs.list_events(fine_tuning_job_id=job_id, limit=1000)"
   ]
  },
  {
   "cell_type": "code",
   "execution_count": 31,
   "metadata": {},
   "outputs": [
    {
     "name": "stdout",
     "output_type": "stream",
     "text": [
      "{}\n",
      "{}\n",
      "{'step': 291, 'train_loss': 0.08493305742740631, 'valid_loss': 0.17787947478117766, 'train_mean_token_accuracy': 1.0, 'valid_mean_token_accuracy': 0.7407407407407407}\n",
      "{'step': 281, 'train_loss': 0.5174751281738281, 'valid_loss': 0.09305815263227983, 'train_mean_token_accuracy': 0.8461538553237915, 'valid_mean_token_accuracy': 0.7272727272727273}\n",
      "{'step': 271, 'train_loss': 0.029893795028328896, 'valid_loss': 0.05583522937915943, 'train_mean_token_accuracy': 1.0, 'valid_mean_token_accuracy': 0.8518518518518519}\n",
      "{'step': 261, 'train_loss': 0.16100892424583435, 'valid_loss': 0.06784277695875901, 'train_mean_token_accuracy': 0.949999988079071, 'valid_mean_token_accuracy': 0.8846153846153846}\n",
      "{'step': 251, 'train_loss': 0.028864683583378792, 'valid_loss': 0.031466276749320655, 'train_mean_token_accuracy': 1.0, 'valid_mean_token_accuracy': 0.6956521739130435}\n",
      "{'step': 241, 'train_loss': 0.05908248946070671, 'valid_loss': 0.19891081915961373, 'train_mean_token_accuracy': 1.0, 'valid_mean_token_accuracy': 0.7407407407407407}\n",
      "{'step': 231, 'train_loss': 0.15997497737407684, 'valid_loss': 0.09388342770663174, 'train_mean_token_accuracy': 0.9166666865348816, 'valid_mean_token_accuracy': 0.7272727272727273}\n",
      "{'step': 221, 'train_loss': 0.207847461104393, 'valid_loss': 0.1033360516583478, 'train_mean_token_accuracy': 0.931034505367279, 'valid_mean_token_accuracy': 0.8518518518518519}\n",
      "{'step': 211, 'train_loss': 0.5553885102272034, 'valid_loss': 0.16701170114370492, 'train_mean_token_accuracy': 0.7894737124443054, 'valid_mean_token_accuracy': 0.8076923076923077}\n",
      "{'step': 201, 'train_loss': 0.605058491230011, 'valid_loss': 0.05491969896399457, 'train_mean_token_accuracy': 0.875, 'valid_mean_token_accuracy': 0.6956521739130435}\n",
      "{'step': 191, 'train_loss': 0.1333150863647461, 'valid_loss': 0.17086876763237846, 'train_mean_token_accuracy': 1.0, 'valid_mean_token_accuracy': 0.7777777777777778}\n",
      "{'step': 181, 'train_loss': 0.36385759711265564, 'valid_loss': 0.09697974811900746, 'train_mean_token_accuracy': 0.8333333134651184, 'valid_mean_token_accuracy': 0.7272727272727273}\n",
      "{'step': 171, 'train_loss': 0.8136666417121887, 'valid_loss': 0.1286087742558232, 'train_mean_token_accuracy': 0.7777777910232544, 'valid_mean_token_accuracy': 0.8518518518518519}\n",
      "{'step': 161, 'train_loss': 0.3535047173500061, 'valid_loss': 0.31603116255540115, 'train_mean_token_accuracy': 0.8799999952316284, 'valid_mean_token_accuracy': 0.8076923076923077}\n",
      "{'step': 151, 'train_loss': 0.38775572180747986, 'valid_loss': 0.11664647641389267, 'train_mean_token_accuracy': 0.8518518805503845, 'valid_mean_token_accuracy': 0.6956521739130435}\n",
      "{'step': 141, 'train_loss': 0.2260272204875946, 'valid_loss': 0.1623628404405382, 'train_mean_token_accuracy': 0.9200000166893005, 'valid_mean_token_accuracy': 0.7777777777777778}\n",
      "{'step': 131, 'train_loss': 0.8351763486862183, 'valid_loss': 0.045705101706764915, 'train_mean_token_accuracy': 0.807692289352417, 'valid_mean_token_accuracy': 0.7727272727272727}\n",
      "{'step': 121, 'train_loss': 0.24153541028499603, 'valid_loss': 0.09503237406412761, 'train_mean_token_accuracy': 0.9200000166893005, 'valid_mean_token_accuracy': 0.8518518518518519}\n",
      "{'step': 111, 'train_loss': 0.23956912755966187, 'valid_loss': 0.2887498415433444, 'train_mean_token_accuracy': 0.9629629850387573, 'valid_mean_token_accuracy': 0.8076923076923077}\n",
      "{'step': 101, 'train_loss': 0.9109979271888733, 'valid_loss': 0.12126955778702446, 'train_mean_token_accuracy': 0.75, 'valid_mean_token_accuracy': 0.6956521739130435}\n",
      "{'step': 91, 'train_loss': 0.7919632792472839, 'valid_loss': 0.3374718560112847, 'train_mean_token_accuracy': 0.75, 'valid_mean_token_accuracy': 0.7037037037037037}\n",
      "{'step': 81, 'train_loss': 1.0646097660064697, 'valid_loss': 0.1891812411221591, 'train_mean_token_accuracy': 0.6800000071525574, 'valid_mean_token_accuracy': 0.6818181818181818}\n",
      "{'step': 71, 'train_loss': 0.3440636098384857, 'valid_loss': 0.509181057965314, 'train_mean_token_accuracy': 0.8571428656578064, 'valid_mean_token_accuracy': 0.7777777777777778}\n",
      "{'step': 61, 'train_loss': 0.5246383547782898, 'valid_loss': 0.4636501165536734, 'train_mean_token_accuracy': 0.8275862336158752, 'valid_mean_token_accuracy': 0.7307692307692307}\n",
      "{'step': 51, 'train_loss': 0.20076987147331238, 'valid_loss': 0.4074240145475968, 'train_mean_token_accuracy': 0.9615384340286255, 'valid_mean_token_accuracy': 0.6086956521739131}\n",
      "{'step': 41, 'train_loss': 0.5208075642585754, 'valid_loss': 0.5900378050627532, 'train_mean_token_accuracy': 0.7857142686843872, 'valid_mean_token_accuracy': 0.7037037037037037}\n",
      "{'step': 31, 'train_loss': 1.373982548713684, 'valid_loss': 0.5260828191583807, 'train_mean_token_accuracy': 0.6363636255264282, 'valid_mean_token_accuracy': 0.5909090909090909}\n",
      "{'step': 21, 'train_loss': 0.6419339179992676, 'valid_loss': 1.3576511100486472, 'train_mean_token_accuracy': 0.8148148059844971, 'valid_mean_token_accuracy': 0.6296296296296297}\n",
      "{'step': 11, 'train_loss': 1.3229660987854004, 'valid_loss': 1.8134681995098407, 'train_mean_token_accuracy': 0.5925925970077515, 'valid_mean_token_accuracy': 0.6538461538461539}\n",
      "{'step': 1, 'train_loss': 2.0584049224853516, 'valid_loss': 1.3407953511113706, 'train_mean_token_accuracy': 0.5161290168762207, 'valid_mean_token_accuracy': 0.4782608695652174}\n",
      "None\n",
      "{}\n",
      "{}\n",
      "{}\n"
     ]
    }
   ],
   "source": [
    "for data in job.data:\n",
    "    print(data.data)"
   ]
  },
  {
   "cell_type": "code",
   "execution_count": 32,
   "metadata": {},
   "outputs": [
    {
     "name": "stdout",
     "output_type": "stream",
     "text": [
      "\u001b[32mStep: 291 | Loss: 0.08493305742740631 | Accuracy: 1.0\u001b[0m\n",
      "\u001b[32mStep: 281 | Loss: 0.5174751281738281 | Accuracy: 0.8461538553237915\u001b[0m\n",
      "\u001b[32mStep: 271 | Loss: 0.029893795028328896 | Accuracy: 1.0\u001b[0m\n",
      "\u001b[32mStep: 261 | Loss: 0.16100892424583435 | Accuracy: 0.949999988079071\u001b[0m\n",
      "\u001b[32mStep: 251 | Loss: 0.028864683583378792 | Accuracy: 1.0\u001b[0m\n",
      "\u001b[32mStep: 241 | Loss: 0.05908248946070671 | Accuracy: 1.0\u001b[0m\n",
      "\u001b[32mStep: 231 | Loss: 0.15997497737407684 | Accuracy: 0.9166666865348816\u001b[0m\n",
      "\u001b[32mStep: 221 | Loss: 0.207847461104393 | Accuracy: 0.931034505367279\u001b[0m\n",
      "\u001b[32mStep: 211 | Loss: 0.5553885102272034 | Accuracy: 0.7894737124443054\u001b[0m\n",
      "\u001b[32mStep: 201 | Loss: 0.605058491230011 | Accuracy: 0.875\u001b[0m\n",
      "\u001b[32mStep: 191 | Loss: 0.1333150863647461 | Accuracy: 1.0\u001b[0m\n",
      "\u001b[32mStep: 181 | Loss: 0.36385759711265564 | Accuracy: 0.8333333134651184\u001b[0m\n",
      "\u001b[32mStep: 171 | Loss: 0.8136666417121887 | Accuracy: 0.7777777910232544\u001b[0m\n",
      "\u001b[32mStep: 161 | Loss: 0.3535047173500061 | Accuracy: 0.8799999952316284\u001b[0m\n",
      "\u001b[32mStep: 151 | Loss: 0.38775572180747986 | Accuracy: 0.8518518805503845\u001b[0m\n",
      "\u001b[32mStep: 141 | Loss: 0.2260272204875946 | Accuracy: 0.9200000166893005\u001b[0m\n",
      "\u001b[32mStep: 131 | Loss: 0.8351763486862183 | Accuracy: 0.807692289352417\u001b[0m\n",
      "\u001b[32mStep: 121 | Loss: 0.24153541028499603 | Accuracy: 0.9200000166893005\u001b[0m\n",
      "\u001b[32mStep: 111 | Loss: 0.23956912755966187 | Accuracy: 0.9629629850387573\u001b[0m\n",
      "\u001b[32mStep: 101 | Loss: 0.9109979271888733 | Accuracy: 0.75\u001b[0m\n",
      "\u001b[32mStep: 91 | Loss: 0.7919632792472839 | Accuracy: 0.75\u001b[0m\n",
      "\u001b[32mStep: 81 | Loss: 1.0646097660064697 | Accuracy: 0.6800000071525574\u001b[0m\n",
      "\u001b[32mStep: 71 | Loss: 0.3440636098384857 | Accuracy: 0.8571428656578064\u001b[0m\n",
      "\u001b[32mStep: 61 | Loss: 0.5246383547782898 | Accuracy: 0.8275862336158752\u001b[0m\n",
      "\u001b[32mStep: 51 | Loss: 0.20076987147331238 | Accuracy: 0.9615384340286255\u001b[0m\n",
      "\u001b[32mStep: 41 | Loss: 0.5208075642585754 | Accuracy: 0.7857142686843872\u001b[0m\n",
      "\u001b[32mStep: 31 | Loss: 1.373982548713684 | Accuracy: 0.6363636255264282\u001b[0m\n",
      "\u001b[32mStep: 21 | Loss: 0.6419339179992676 | Accuracy: 0.8148148059844971\u001b[0m\n",
      "\u001b[32mStep: 11 | Loss: 1.3229660987854004 | Accuracy: 0.5925925970077515\u001b[0m\n",
      "\u001b[32mStep: 1 | Loss: 2.0584049224853516 | Accuracy: 0.5161290168762207\u001b[0m\n"
     ]
    },
    {
     "name": "stderr",
     "output_type": "stream",
     "text": [
      "/var/folders/03/yc2jnkjs4f5dc4k5n1jpn1n40000gn/T/ipykernel_65294/1652763345.py:15: FutureWarning: The behavior of DataFrame concatenation with empty or all-NA entries is deprecated. In a future version, this will no longer exclude empty or all-NA columns when determining the result dtypes. To retain the old behavior, exclude the relevant entries before the concat operation.\n",
      "  df = pd.concat([df, new_df], ignore_index=True)\n"
     ]
    },
    {
     "data": {
      "image/png": "[encoded data removed]",
      "text/plain": [
       "<Figure size 1200x600 with 2 Axes>"
      ]
     },
     "metadata": {},
     "output_type": "display_data"
    },
    {
     "data": {
      "text/plain": [
       "<Figure size 640x480 with 0 Axes>"
      ]
     },
     "metadata": {},
     "output_type": "display_data"
    }
   ],
   "source": [
    "for data in job.data:\n",
    "    if(data.data):\n",
    "        step = data.data[\"step\"]\n",
    "        train_loss = data.data[\"train_loss\"]\n",
    "        accuracy = data.data[\"train_mean_token_accuracy\"]\n",
    "\n",
    "        # Print the current step, loss, and accuracy in a single line with termcolor\n",
    "        print(colored(f\"Step: {step} | Loss: {train_loss} | Accuracy: {accuracy}\", \"green\"))\n",
    "\n",
    "\n",
    "        # Append data to the DataFrame\n",
    "        new_data = {\"Step\": step, \"Loss\": train_loss, \"Accuracy\": accuracy}\n",
    "        new_df = pd.DataFrame([new_data])\n",
    "        #\n",
    "        df = pd.concat([df, new_df], ignore_index=True)\n",
    "        # save the DataFrame to a CSV file\n",
    "        df.to_csv(\"training_progress_all.csv\", index=False)\n",
    "\n",
    "# Plotting\n",
    "plt.figure(figsize=(12, 6))\n",
    "\n",
    "plt.subplot(1, 2, 1)\n",
    "plt.plot(df[\"Step\"], df[\"Loss\"], label=\"Train Loss\")\n",
    "plt.title(\"Training Loss over Steps\")\n",
    "plt.xlabel(\"Steps\")\n",
    "plt.ylabel(\"Loss\")\n",
    "\n",
    "plt.subplot(1, 2, 2)\n",
    "plt.plot(df[\"Step\"], df[\"Accuracy\"], label=\"Train Accuracy\", color=\"green\")\n",
    "plt.title(\"Training Accuracy over Steps\")\n",
    "plt.xlabel(\"Steps\")\n",
    "plt.ylabel(\"Accuracy\")\n",
    "\n",
    "plt.tight_layout()\n",
    "plt.draw()\n",
    "plt.pause(1)  # pause for a brief moment to allow the plot to update\n",
    "\n",
    "# Clear the current plot to prepare for the next update\n",
    "plt.clf()"
   ]
  },
  {
   "cell_type": "code",
   "execution_count": 41,
   "metadata": {},
   "outputs": [
    {
     "name": "stdout",
     "output_type": "stream",
     "text": [
      "[{'role': 'system', 'content': \"You are a helpful assistant. Who answers to questions and don't add any other information unless asked for.\"}, {'role': 'user', 'content': 'What technology trends intrigue Gappi the most?'}]\n"
     ]
    }
   ],
   "source": [
    "test_messages = []\n",
    "test_messages.append({\"role\": \"system\", \"content\": system_message})\n",
    "user_message = \"What technology trends intrigue Gappi the most?\"\n",
    "test_messages.append({\"role\": \"user\", \"content\": user_message})\n",
    "\n",
    "print(test_messages)"
   ]
  },
  {
   "cell_type": "code",
   "execution_count": 42,
   "metadata": {},
   "outputs": [
    {
     "name": "stdout",
     "output_type": "stream",
     "text": [
      "Gappi is particularly intrigued by advancements in artificial intelligence, sustainable technologies, and their applications in solving real-world challenges.\n"
     ]
    }
   ],
   "source": [
    "response = openai.OpenAI().chat.completions.create(\n",
    "    model='ft:gpt-3.5-turbo-0613:kickdrum::8RegdrCR', messages=test_messages, temperature=1, max_tokens=3500, \n",
    ")\n",
    "print(response.choices[0].message.content)"
   ]
  }
 ],
 "metadata": {
  "kernelspec": {
   "display_name": ".venv",
   "language": "python",
   "name": "python3"
  },
  "language_info": {
   "codemirror_mode": {
    "name": "ipython",
    "version": 3
   },
   "file_extension": ".py",
   "mimetype": "text/x-python",
   "name": "python",
   "nbconvert_exporter": "python",
   "pygments_lexer": "ipython3",
   "version": "3.9.2"
  },
  "orig_nbformat": 4
 },
 "nbformat": 4,
 "nbformat_minor": 2
}
